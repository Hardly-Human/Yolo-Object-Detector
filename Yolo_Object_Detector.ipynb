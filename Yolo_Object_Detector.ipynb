{
  "nbformat": 4,
  "nbformat_minor": 0,
  "metadata": {
    "colab": {
      "name": "Yolo-Object-Detector.ipynb",
      "provenance": [],
      "private_outputs": true,
      "collapsed_sections": [],
      "authorship_tag": "ABX9TyOId/sRRd1gHyluhXKX2u/p",
      "include_colab_link": true
    },
    "kernelspec": {
      "name": "python3",
      "display_name": "Python 3"
    },
    "accelerator": "GPU"
  },
  "cells": [
    {
      "cell_type": "markdown",
      "metadata": {
        "id": "view-in-github",
        "colab_type": "text"
      },
      "source": [
        "<a href=\"https://colab.research.google.com/github/Hardly-Human/Yolo-Object-Detector/blob/master/Yolo_Object_Detector.ipynb\" target=\"_parent\"><img src=\"https://colab.research.google.com/assets/colab-badge.svg\" alt=\"Open In Colab\"/></a>"
      ]
    },
    {
      "cell_type": "markdown",
      "metadata": {
        "id": "xS9fBSC4jr7e",
        "colab_type": "text"
      },
      "source": [
        "# __Yolo-Object-Detector__\n",
        "\n",
        "<img src = 'https://previews.dropbox.com/p/thumb/AA29gHOg3xEsL3HmFWopqfDXd5kYYWzmejtL5C2iAOqhtOBrKTGkW_qAQG4BbGMKssacye4kjLFj-HHeE80pgu6eBiorCqfI11GH4AU5EwFQ0N3nXoM3f_srAcWojf3l9sXinVMD2lSSR40XgFLOgXH_AE53FIY2q3h_U6RMuFuO9Ew6-JYjZtjdEyvOJ4SKN6Wr5zTmbFiHIOudOT9UcOzCHD4I8cwfHsHBAulicxMY9bOqaQ6XvpdEMW2Y5xpE-vyBV7Hacqtn5RZccBJyF6GsVqfGzw1u1SGWc8GVYvSgCWOgzUJLrqwOOOPw0bUQfrrSyqLz0D9R_FDjdPanzDMu5ULd4qXW8F0zyxlO4gu3BA/p.jpeg' width = \"450\" height = \"350\">\n",
        "<img src = 'https://img.icons8.com/plasticine/2x/arrow.png' width = \"100\" height = 150><img src = 'https://previews.dropbox.com/p/thumb/AA07P-JroW_hpQU0EjQPWHO_B62oiaXhm0X6x0ANpCl2qUN5kIpH9k0stED7Pywwl59Gi3SL6Ao5KSDDEqCyXvVh0eZmWyJaqdxnRJUCbQ56SsyvKFgoOC1AlpX3I-tASsufGUdWY3V6MEL8WXp1h9bhN3Cvap6qhhEEHr1TiSxCEJfzCPYbbdjUqi62XVdYnvwunP_z18BxtIE6oaBzUnmNiYzxTP33yZv2OgV_d874RsYA2iCpoIu-QbeTvGHrrTLz96cKox-33wxOac2kHlSSS-UPwyh6Gog7GoSgL2GHeL5JDKlUrJKlc6Xh2HHjB1h4pZg77KbEtWL9aojDnZ20tKxZEd3B9S1rEPvn3rxvBA/p.jpeg' width = \"450\" height = \"350\">\n",
        "\n",
        "# `Instructions to use :` \n",
        "\n",
        "## `Goto 'Edit' menu in toolbar 👨‍🔧`\n",
        "\n",
        "## `Select 'Notebook Settings' `\n",
        "\n",
        "## `Set 'Hardware Accelerator' to 'GPU' `\n",
        "\n",
        "### ` - Run the cells Below Sequentially.👨‍🏫`\n",
        "\n",
        "### ` - In 2nd cell upload the images. 🧙‍♂️`\n",
        "\n",
        "### ` - Run the 3rd cell (Each Images takes around 6 sec to Render) 🧐😪🥱😴`\n",
        "\n",
        "### ` - Model Rendered Images gets Downloaded Automatically. 😇🥳🥳`\n"
      ]
    },
    {
      "cell_type": "code",
      "metadata": {
        "id": "st9-DslNwv1k",
        "colab_type": "code",
        "colab": {}
      },
      "source": [
        "import os\n",
        "\n",
        "!git clone https://github.com/Hardly-Human/darknet.git    # forked Repository of Darknet..\n",
        "os.chdir('darknet')\n",
        "\n",
        "!make  \n",
        "\n",
        "!wget https://www.dropbox.com/s/x6qwqpu7zt147hp/yolov3.weights?dl=1 -O yolov3.weights  # model weights\n"
      ],
      "execution_count": null,
      "outputs": []
    },
    {
      "cell_type": "code",
      "metadata": {
        "id": "WI_vhoTLT28-",
        "colab_type": "code",
        "colab": {}
      },
      "source": [
        "from google.colab import files\n",
        "uploaded = files.upload()"
      ],
      "execution_count": null,
      "outputs": []
    },
    {
      "cell_type": "code",
      "metadata": {
        "id": "Z4yh6zDjkr8h",
        "colab_type": "code",
        "colab": {}
      },
      "source": [
        "for fn in uploaded.keys():\n",
        "  os.rename(fn,'image.jpg')\n",
        "  ! ./darknet detect cfg/yolov3.cfg yolov3.weights image.jpg   # feeding Images to model...\n",
        "  os.rename('predictions.jpg' , fn)\n",
        "  files.download(fn)  "
      ],
      "execution_count": null,
      "outputs": []
    },
    {
      "cell_type": "code",
      "metadata": {
        "id": "kbXVK70aBgsY",
        "colab_type": "code",
        "colab": {}
      },
      "source": [
        "# Reset Environment\n",
        "os.chdir('..')\n",
        "!rm -r darknet/"
      ],
      "execution_count": null,
      "outputs": []
    }
  ]
}