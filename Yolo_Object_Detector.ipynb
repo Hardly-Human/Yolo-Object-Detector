{
  "nbformat": 4,
  "nbformat_minor": 0,
  "metadata": {
    "colab": {
      "name": "Yolo-Object-Detector.ipynb",
      "provenance": [],
      "collapsed_sections": []
    },
    "kernelspec": {
      "name": "python3",
      "display_name": "Python 3"
    },
    "accelerator": "GPU"
  },
  "cells": [
    {
      "cell_type": "markdown",
      "metadata": {
        "id": "xS9fBSC4jr7e",
        "colab_type": "text"
      },
      "source": [
        "# Yolo-Object-Detector\n",
        "\n",
        "\n",
        "# `Instructions to use :` \n",
        "`Goto 'edit' menu in toolbar`\n",
        "\n",
        "`Select 'Notebook Settings' `\n",
        "\n",
        "`Set 'Hardware Accelerator' to 'GPU' `\n",
        "\n",
        "` - run the cells Below Sequentially.`\n"
      ]
    },
    {
      "cell_type": "code",
      "metadata": {
        "id": "st9-DslNwv1k",
        "colab_type": "code",
        "colab": {}
      },
      "source": [
        "import os\n",
        "\n",
        "!git clone https://github.com/Hardly-Human/darknet.git    # forked Repository of Darknet..\n",
        "os.chdir('darknet')\n",
        "\n",
        "!make\n",
        "\n",
        "!wget https://www.dropbox.com/s/x6qwqpu7zt147hp/yolov3.weights?dl=1 -O yolov3.weights  # model weights\n"
      ],
      "execution_count": null,
      "outputs": []
    },
    {
      "cell_type": "code",
      "metadata": {
        "id": "WI_vhoTLT28-",
        "colab_type": "code",
        "colab": {}
      },
      "source": [
        "from google.colab import files\n",
        "uploaded = files.upload()"
      ],
      "execution_count": null,
      "outputs": []
    },
    {
      "cell_type": "code",
      "metadata": {
        "id": "Z4yh6zDjkr8h",
        "colab_type": "code",
        "colab": {}
      },
      "source": [
        "for fn in uploaded.keys():\n",
        "  os.rename(fn,'image.jpg')\n",
        "  ! ./darknet detect cfg/yolov3.cfg yolov3.weights image.jpg   # feeding Images to model...\n",
        "  os.rename('predictions.jpg' , fn)\n",
        "  files.download(fn)  "
      ],
      "execution_count": null,
      "outputs": []
    },
    {
      "cell_type": "code",
      "metadata": {
        "id": "kbXVK70aBgsY",
        "colab_type": "code",
        "colab": {}
      },
      "source": [
        "# Reset Environment\n",
        "os.chdir('..')\n",
        "!rm -r darknet/"
      ],
      "execution_count": null,
      "outputs": []
    }
  ]
}